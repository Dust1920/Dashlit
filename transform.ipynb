{
 "cells": [
  {
   "cell_type": "markdown",
   "metadata": {},
   "source": [
    "# Mapas Interactivos\n",
    "\n",
    "Ya hemos trabajado con mapas de parte de GeoPandas, permitiendo hacer mapas atractivos e interesantes, sin embargo. Estos erán estáticos."
   ]
  },
  {
   "cell_type": "code",
   "execution_count": null,
   "metadata": {},
   "outputs": [],
   "source": [
    "import preliminars as srt\n",
    "\n",
    "settings = {\n",
    "    'descarga': False\n",
    "}\n",
    "srt.preliminares(settings)"
   ]
  },
  {
   "cell_type": "markdown",
   "metadata": {},
   "source": [
    "Plotly tiene un detalle, este funciona mediante GeoJSON, por lo tanto, la información que querrámos graficar habra que convertirla GeoJSON primero. Entonces, como ejemplo tomaremos la República Mexicana."
   ]
  },
  {
   "cell_type": "code",
   "execution_count": null,
   "metadata": {},
   "outputs": [],
   "source": [
    "import os\n",
    "if not os.path.exists('download\\\\select_region'):\n",
    "    os.mkdir('download\\\\select_region')\n",
    "srt.extrae('download\\\\REPMEX.zip','download\\\\select_region','00')\n",
    "srt.extrae('download\\\\Estados\\\\26_sonora.zip','download\\\\select_region','26') # Tambien Sonora, lo veremos más adelante."
   ]
  },
  {
   "cell_type": "markdown",
   "metadata": {},
   "source": [
    "Ahora, selecionaremos que necesitamos:\n",
    "* Para México, los estados.\n",
    "* Para Sonora, los municipios."
   ]
  },
  {
   "cell_type": "code",
   "execution_count": null,
   "metadata": {},
   "outputs": [],
   "source": [
    "tipos_mapas = {'AGEB':'a', 'AGEB Rurales':'ar', '03': 'cd', '04': 'e', 'Estado':'ent', '05':'fm','06':'l',\n",
    "                '07':'lpr','08':'m','Municipios':'mun','09':'pe','10':'pem','11':'sia','12':'sil','13':'sip',                        \n",
    "                '14':'ti'}\n",
    "def selecciona_tipo_mapa(region, tipo):  \n",
    "    try:\n",
    "        tipo = tipos_mapas[tipo]\n",
    "    except:\n",
    "        print('Seleccione un tipo de mapa válido')\n",
    "        return -1\n",
    "    tipo_mapa = region + tipo + '.shp'\n",
    "    return tipo_mapa\n",
    "\n",
    "mex_shp = selecciona_tipo_mapa('00','Estado')\n",
    "son_shp = selecciona_tipo_mapa('26','Municipios')"
   ]
  },
  {
   "cell_type": "code",
   "execution_count": null,
   "metadata": {},
   "outputs": [],
   "source": [
    "import geopandas as gpd\n",
    "\n",
    "data_path = 'download\\\\select_region\\\\'\n",
    "regions = ['00', '26']\n",
    "\n",
    "base_mex = gpd.read_file(data_path + '00\\\\conjunto_de_datos\\\\' + mex_shp)\n",
    "base_son = gpd.read_file(data_path + '26\\\\conjunto_de_datos\\\\' + son_shp)\n"
   ]
  },
  {
   "cell_type": "code",
   "execution_count": null,
   "metadata": {},
   "outputs": [],
   "source": [
    "base_mex.plot()\n",
    "base_son.plot()"
   ]
  },
  {
   "cell_type": "code",
   "execution_count": null,
   "metadata": {},
   "outputs": [],
   "source": [
    "import plotly.express as px\n",
    "import numpy as np\n",
    "\n",
    "base_mex['Test'] = np.random.standard_exponential(size = 32)\n",
    "\n",
    "fig = px.choropleth_mapbox(base_mex, geojson=base_mex.geometry,\n",
    "                           locations = base_mex['CVE_ENT'],\n",
    "                           color = 'Test', center ={\"lat\": 80,\"lon\": 60},\n",
    "                           mapbox_style=\"open-street-map\",\n",
    "                           zoom=8.5)\n",
    "fig.show()"
   ]
  },
  {
   "cell_type": "code",
   "execution_count": null,
   "metadata": {},
   "outputs": [],
   "source": [
    "base_mex1 = base_mex.to_crs(\"EPSG:4326\")\n",
    "base_mex2 = base_mex.to_crs(\"WGS84\")"
   ]
  },
  {
   "cell_type": "code",
   "execution_count": null,
   "metadata": {},
   "outputs": [],
   "source": [
    "base_mex1.plot()\n",
    "base_mex2.plot()\n",
    "\n",
    "\n"
   ]
  },
  {
   "cell_type": "code",
   "execution_count": null,
   "metadata": {},
   "outputs": [],
   "source": [
    "fig = px.choropleth_mapbox(base_mex2, geojson=base_mex2.geometry,\n",
    "                           locations = base_mex2.index,\n",
    "                           color = 'Test', center ={'lat':25, 'lon':-100},\n",
    "                           mapbox_style=\"open-street-map\", zoom = 3)\n",
    "                           \n",
    "fig.show()"
   ]
  },
  {
   "cell_type": "code",
   "execution_count": null,
   "metadata": {},
   "outputs": [],
   "source": [
    "base_mex2.crs"
   ]
  }
 ],
 "metadata": {
  "kernelspec": {
   "display_name": "ISAF",
   "language": "python",
   "name": "python3"
  },
  "language_info": {
   "codemirror_mode": {
    "name": "ipython",
    "version": 3
   },
   "file_extension": ".py",
   "mimetype": "text/x-python",
   "name": "python",
   "nbconvert_exporter": "python",
   "pygments_lexer": "ipython3",
   "version": "3.10.13"
  }
 },
 "nbformat": 4,
 "nbformat_minor": 2
}
